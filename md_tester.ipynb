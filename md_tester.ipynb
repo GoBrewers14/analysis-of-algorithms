{
 "cells": [
  {
   "cell_type": "markdown",
   "metadata": {},
   "source": [
    "## Ch. 2 Recurrence Relations"
   ]
  },
  {
   "cell_type": "markdown",
   "metadata": {},
   "source": [
    "### Exercise 2.9\n",
    "Solve the recurrence\n",
    "\n",
    "$a_n = \\left(\\frac{n}{n+2}\\right)a_{n-1}$      for $n > 0$ and $a_0 = 1$\n",
    "\n",
    "**proof**:\n",
    "\n",
    "$a_n = \\left(\\frac{n}{n+2}\\right)a_{n-1}\\\\=> \\left(\\frac{n}{n+2}\\right)\\left(\\frac{n-1}{n+1}\\right)a_{n-2}\\\\=> \\left(\\frac{n}{n+2}\\right)\\left(\\frac{n-1}{n+1}\\right)\\left(\\frac{n-2}{n}\\right)a_{n-3}\\\\=> \\left(\\frac{n}{n+2}\\right)\\left(\\frac{n-1}{n+1}\\right)\\left(\\frac{n-2}{n}\\right)\\left(\\frac{n-3}{n-1}\\right)\\dotsm\\left(\\frac{2}{4}\\right)\\left(\\frac{1}{3}\\right) => \\frac{2}{(n+2)(n+1)}\\ \\blacksquare$\n",
    "\n",
    "Note:  This is the inverse sum of the triangle numbers :)"
   ]
  },
  {
   "cell_type": "markdown",
   "metadata": {},
   "source": [
    "### Exercise 2.10\n",
    "Solve the recurrence\n",
    "\n",
    "$a_{n} = a_{n-1} + (-1)^{n}n$ for $n > 0$ with $a_0  = 1$.\n",
    "\n",
    "**proof**:\n",
    "\n",
    "$a_n = (-1)^{n}n + a_{n-1}\\\\=> (-1)^{n}n + (-1)^{n-1}(n-1) + a_{n-2}\\\\=> (-1)^{n}n + (-1)^{n-1}(n-1) + (-1)^{n-2}(n-2) + a_{n-3}\\\\ \\vdots\\\\=> a_0 + \\displaystyle\\sum_{k=0}^{N}(-1)^{k+1}k \\ \\blacksquare$"
   ]
  },
  {
   "cell_type": "code",
   "execution_count": null,
   "metadata": {
    "collapsed": true
   },
   "outputs": [],
   "source": []
  }
 ],
 "metadata": {
  "kernelspec": {
   "display_name": "Python 2",
   "language": "python",
   "name": "python2"
  },
  "language_info": {
   "codemirror_mode": {
    "name": "ipython",
    "version": 2
   },
   "file_extension": ".py",
   "mimetype": "text/x-python",
   "name": "python",
   "nbconvert_exporter": "python",
   "pygments_lexer": "ipython2",
   "version": "2.7.10"
  }
 },
 "nbformat": 4,
 "nbformat_minor": 0
}
